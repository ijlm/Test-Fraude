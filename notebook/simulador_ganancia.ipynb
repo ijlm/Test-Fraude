{
 "cells": [
  {
   "cell_type": "code",
   "execution_count": 13,
   "metadata": {},
   "outputs": [],
   "source": [
    "import pandas as pd\n",
    "import matplotlib.pyplot as plt\n",
    "import numpy as np"
   ]
  },
  {
   "cell_type": "code",
   "execution_count": 26,
   "metadata": {},
   "outputs": [
    {
     "data": {
      "text/html": [
       "<div>\n",
       "<style scoped>\n",
       "    .dataframe tbody tr th:only-of-type {\n",
       "        vertical-align: middle;\n",
       "    }\n",
       "\n",
       "    .dataframe tbody tr th {\n",
       "        vertical-align: top;\n",
       "    }\n",
       "\n",
       "    .dataframe thead th {\n",
       "        text-align: right;\n",
       "    }\n",
       "</style>\n",
       "<table border=\"1\" class=\"dataframe\">\n",
       "  <thead>\n",
       "    <tr style=\"text-align: right;\">\n",
       "      <th></th>\n",
       "      <th>Unnamed: 0</th>\n",
       "      <th>a</th>\n",
       "      <th>b</th>\n",
       "      <th>c</th>\n",
       "      <th>d</th>\n",
       "      <th>e</th>\n",
       "      <th>f</th>\n",
       "      <th>h</th>\n",
       "      <th>k</th>\n",
       "      <th>l</th>\n",
       "      <th>...</th>\n",
       "      <th>monto</th>\n",
       "      <th>score</th>\n",
       "      <th>fraude</th>\n",
       "      <th>Country_AR</th>\n",
       "      <th>Country_BR</th>\n",
       "      <th>Country_US</th>\n",
       "      <th>Country_UY</th>\n",
       "      <th>Country_otros</th>\n",
       "      <th>hour_early</th>\n",
       "      <th>predict</th>\n",
       "    </tr>\n",
       "  </thead>\n",
       "  <tbody>\n",
       "    <tr>\n",
       "      <th>0</th>\n",
       "      <td>0</td>\n",
       "      <td>4</td>\n",
       "      <td>0.6812</td>\n",
       "      <td>50084.12</td>\n",
       "      <td>50.0</td>\n",
       "      <td>0.000000</td>\n",
       "      <td>20.0</td>\n",
       "      <td>1</td>\n",
       "      <td>0.365475</td>\n",
       "      <td>2479.0</td>\n",
       "      <td>...</td>\n",
       "      <td>57.63</td>\n",
       "      <td>100</td>\n",
       "      <td>0</td>\n",
       "      <td>1</td>\n",
       "      <td>0</td>\n",
       "      <td>0</td>\n",
       "      <td>0</td>\n",
       "      <td>0</td>\n",
       "      <td>0</td>\n",
       "      <td>0.015804</td>\n",
       "    </tr>\n",
       "    <tr>\n",
       "      <th>1</th>\n",
       "      <td>1</td>\n",
       "      <td>4</td>\n",
       "      <td>0.6694</td>\n",
       "      <td>66005.49</td>\n",
       "      <td>0.0</td>\n",
       "      <td>0.000000</td>\n",
       "      <td>2.0</td>\n",
       "      <td>1</td>\n",
       "      <td>0.612728</td>\n",
       "      <td>2603.0</td>\n",
       "      <td>...</td>\n",
       "      <td>40.19</td>\n",
       "      <td>25</td>\n",
       "      <td>0</td>\n",
       "      <td>1</td>\n",
       "      <td>0</td>\n",
       "      <td>0</td>\n",
       "      <td>0</td>\n",
       "      <td>0</td>\n",
       "      <td>0</td>\n",
       "      <td>0.006947</td>\n",
       "    </tr>\n",
       "    <tr>\n",
       "      <th>2</th>\n",
       "      <td>2</td>\n",
       "      <td>4</td>\n",
       "      <td>0.4718</td>\n",
       "      <td>7059.05</td>\n",
       "      <td>4.0</td>\n",
       "      <td>0.463488</td>\n",
       "      <td>92.0</td>\n",
       "      <td>25</td>\n",
       "      <td>0.651835</td>\n",
       "      <td>2153.0</td>\n",
       "      <td>...</td>\n",
       "      <td>5.77</td>\n",
       "      <td>23</td>\n",
       "      <td>0</td>\n",
       "      <td>0</td>\n",
       "      <td>1</td>\n",
       "      <td>0</td>\n",
       "      <td>0</td>\n",
       "      <td>0</td>\n",
       "      <td>0</td>\n",
       "      <td>0.042368</td>\n",
       "    </tr>\n",
       "    <tr>\n",
       "      <th>3</th>\n",
       "      <td>3</td>\n",
       "      <td>4</td>\n",
       "      <td>0.7260</td>\n",
       "      <td>10043.10</td>\n",
       "      <td>24.0</td>\n",
       "      <td>0.046845</td>\n",
       "      <td>43.0</td>\n",
       "      <td>43</td>\n",
       "      <td>0.692728</td>\n",
       "      <td>4845.0</td>\n",
       "      <td>...</td>\n",
       "      <td>40.89</td>\n",
       "      <td>23</td>\n",
       "      <td>0</td>\n",
       "      <td>0</td>\n",
       "      <td>1</td>\n",
       "      <td>0</td>\n",
       "      <td>0</td>\n",
       "      <td>0</td>\n",
       "      <td>0</td>\n",
       "      <td>0.078661</td>\n",
       "    </tr>\n",
       "    <tr>\n",
       "      <th>4</th>\n",
       "      <td>4</td>\n",
       "      <td>4</td>\n",
       "      <td>0.7758</td>\n",
       "      <td>16584.42</td>\n",
       "      <td>2.0</td>\n",
       "      <td>0.154616</td>\n",
       "      <td>54.0</td>\n",
       "      <td>0</td>\n",
       "      <td>0.201354</td>\n",
       "      <td>2856.0</td>\n",
       "      <td>...</td>\n",
       "      <td>18.98</td>\n",
       "      <td>71</td>\n",
       "      <td>0</td>\n",
       "      <td>0</td>\n",
       "      <td>1</td>\n",
       "      <td>0</td>\n",
       "      <td>0</td>\n",
       "      <td>0</td>\n",
       "      <td>0</td>\n",
       "      <td>0.013279</td>\n",
       "    </tr>\n",
       "  </tbody>\n",
       "</table>\n",
       "<p>5 rows × 23 columns</p>\n",
       "</div>"
      ],
      "text/plain": [
       "   Unnamed: 0  a       b         c     d         e     f   h         k  \\\n",
       "0           0  4  0.6812  50084.12  50.0  0.000000  20.0   1  0.365475   \n",
       "1           1  4  0.6694  66005.49   0.0  0.000000   2.0   1  0.612728   \n",
       "2           2  4  0.4718   7059.05   4.0  0.463488  92.0  25  0.651835   \n",
       "3           3  4  0.7260  10043.10  24.0  0.046845  43.0  43  0.692728   \n",
       "4           4  4  0.7758  16584.42   2.0  0.154616  54.0   0  0.201354   \n",
       "\n",
       "        l  ...  monto  score  fraude  Country_AR  Country_BR  Country_US  \\\n",
       "0  2479.0  ...  57.63    100       0           1           0           0   \n",
       "1  2603.0  ...  40.19     25       0           1           0           0   \n",
       "2  2153.0  ...   5.77     23       0           0           1           0   \n",
       "3  4845.0  ...  40.89     23       0           0           1           0   \n",
       "4  2856.0  ...  18.98     71       0           0           1           0   \n",
       "\n",
       "   Country_UY  Country_otros  hour_early   predict  \n",
       "0           0              0           0  0.015804  \n",
       "1           0              0           0  0.006947  \n",
       "2           0              0           0  0.042368  \n",
       "3           0              0           0  0.078661  \n",
       "4           0              0           0  0.013279  \n",
       "\n",
       "[5 rows x 23 columns]"
      ]
     },
     "execution_count": 26,
     "metadata": {},
     "output_type": "execute_result"
    }
   ],
   "source": [
    "df=pd.read_csv('pruebas.csv')\n",
    "df.head()"
   ]
  },
  {
   "cell_type": "code",
   "execution_count": 22,
   "metadata": {},
   "outputs": [],
   "source": [
    "import pandas as pd\n",
    "\n",
    "# Supongamos que tienes un DataFrame llamado df con las columnas predict, fraude y monto\n",
    "\n",
    "# Define los valores de costos y ganancias\n",
    "CFP = 1  # Costo por Fraude Aprobado (100% del dinero de la transacción)\n",
    "GT = 0.25  # Ganancia por Transacción Legítima (25% del dinero de la transacción)\n",
    "GFD = 1  # Ganancia por Fraude Detectado (100% del dinero de la transacción)\n",
    "\n",
    "# Función para calcular la ganancia esperada para un umbral dado\n",
    "def calcular_ganancia_esperada(df, umbral):\n",
    "    # Clasifica las transacciones en función del umbral\n",
    "    df['prediccion'] = (df['predict'] >= umbral).astype(int)\n",
    "\n",
    "    # Calcula los componentes de la ganancia esperada\n",
    "    TP = ((df['prediccion'] == 1) & (df['fraude'] == 1)).sum()\n",
    "    FP = ((df['prediccion'] == 1) & (df['fraude'] == 0)).sum()\n",
    "    FN = ((df['prediccion'] == 0) & (df['fraude'] == 1)).sum()\n",
    "    TN = ((df['prediccion'] == 0) & (df['fraude'] == 0)).sum()\n",
    "\n",
    "    # Calcula la ganancia esperada\n",
    "    GE = (GT * TN) + (GFD * TP) - (CFP * FP) - (CFP * FN)\n",
    "    return GE\n",
    "\n",
    "# Define una lista de umbrales para evaluar\n",
    "umbrales = np.arange(0,1,0.01)\n",
    "\n",
    "# Calcula la ganancia esperada para cada umbral y almacénala en una lista\n",
    "ganancias_esperadas = [calcular_ganancia_esperada(df, umbral) for umbral in umbrales]\n",
    "\n",
    "# Crea un DataFrame con los resultados\n",
    "resultados = pd.DataFrame({'Umbral': umbrales, 'GananciaEsperada': ganancias_esperadas})\n",
    "\n"
   ]
  },
  {
   "cell_type": "code",
   "execution_count": 25,
   "metadata": {},
   "outputs": [
    {
     "data": {
      "text/plain": [
       "[<matplotlib.lines.Line2D at 0x21b814d5b50>]"
      ]
     },
     "execution_count": 25,
     "metadata": {},
     "output_type": "execute_result"
    },
    {
     "data": {
      "image/png": "[encoded data removed]",
      "text/plain": [
       "<Figure size 640x480 with 1 Axes>"
      ]
     },
     "metadata": {},
     "output_type": "display_data"
    }
   ],
   "source": [
    "plt.plot(resultados.Umbral  ,resultados.GananciaEsperada)"
   ]
  },
  {
   "cell_type": "code",
   "execution_count": 28,
   "metadata": {},
   "outputs": [
    {
     "data": {
      "text/plain": [
       "<Axes: >"
      ]
     },
     "execution_count": 28,
     "metadata": {},
     "output_type": "execute_result"
    },
    {
     "data": {
      "image/png": "[encoded data removed]",
      "text/plain": [
       "<Figure size 640x480 with 1 Axes>"
      ]
     },
     "metadata": {},
     "output_type": "display_data"
    }
   ],
   "source": [
    "df.predict.hist(bins=40)"
   ]
  }
 ],
 "metadata": {
  "kernelspec": {
   "display_name": "meli_test2",
   "language": "python",
   "name": "python3"
  },
  "language_info": {
   "codemirror_mode": {
    "name": "ipython",
    "version": 3
   },
   "file_extension": ".py",
   "mimetype": "text/x-python",
   "name": "python",
   "nbconvert_exporter": "python",
   "pygments_lexer": "ipython3",
   "version": "3.9.18"
  }
 },
 "nbformat": 4,
 "nbformat_minor": 2
}
